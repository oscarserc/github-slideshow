{
  "nbformat": 4,
  "nbformat_minor": 0,
  "metadata": {
    "colab": {
      "name": "PRUEBA_SuccessorRepresentation.ipynb",
      "provenance": [],
      "authorship_tag": "ABX9TyOpo/RFiI2JfblYzM0XvLex",
      "include_colab_link": true
    },
    "kernelspec": {
      "name": "python3",
      "display_name": "Python 3"
    },
    "language_info": {
      "name": "python"
    }
  },
  "cells": [
    {
      "cell_type": "markdown",
      "metadata": {
        "id": "view-in-github",
        "colab_type": "text"
      },
      "source": [
        "<a href=\"https://colab.research.google.com/github/oscarserc/github-slideshow/blob/master/PRUEBA_SuccessorRepresentation.ipynb\" target=\"_parent\"><img src=\"https://colab.research.google.com/assets/colab-badge.svg\" alt=\"Open In Colab\"/></a>"
      ]
    },
    {
      "cell_type": "markdown",
      "metadata": {
        "id": "fGilcRNvNNWz"
      },
      "source": [
        "## **Prueba con las matrices y el aprendizaje**"
      ]
    },
    {
      "cell_type": "code",
      "metadata": {
        "colab": {
          "base_uri": "https://localhost:8080/"
        },
        "id": "VJY0GAPBNUcm",
        "outputId": "a2f65fd3-300e-4092-8bfd-0c92a16c4721"
      },
      "source": [
        "import numpy as np\n",
        "\n",
        "# Fijando los valores de los parámetros\n",
        "action_size = 3\n",
        "state_size  = 6\n",
        "\n",
        "M = np.stack([np.identity(state_size) for i in range(action_size)])\n",
        "M"
      ],
      "execution_count": 9,
      "outputs": [
        {
          "output_type": "execute_result",
          "data": {
            "text/plain": [
              "array([[[1., 0., 0., 0., 0., 0.],\n",
              "        [0., 1., 0., 0., 0., 0.],\n",
              "        [0., 0., 1., 0., 0., 0.],\n",
              "        [0., 0., 0., 1., 0., 0.],\n",
              "        [0., 0., 0., 0., 1., 0.],\n",
              "        [0., 0., 0., 0., 0., 1.]],\n",
              "\n",
              "       [[1., 0., 0., 0., 0., 0.],\n",
              "        [0., 1., 0., 0., 0., 0.],\n",
              "        [0., 0., 1., 0., 0., 0.],\n",
              "        [0., 0., 0., 1., 0., 0.],\n",
              "        [0., 0., 0., 0., 1., 0.],\n",
              "        [0., 0., 0., 0., 0., 1.]],\n",
              "\n",
              "       [[1., 0., 0., 0., 0., 0.],\n",
              "        [0., 1., 0., 0., 0., 0.],\n",
              "        [0., 0., 1., 0., 0., 0.],\n",
              "        [0., 0., 0., 1., 0., 0.],\n",
              "        [0., 0., 0., 0., 1., 0.],\n",
              "        [0., 0., 0., 0., 0., 1.]]])"
            ]
          },
          "metadata": {
            "tags": []
          },
          "execution_count": 9
        }
      ]
    },
    {
      "cell_type": "code",
      "metadata": {
        "colab": {
          "base_uri": "https://localhost:8080/"
        },
        "id": "EVXv_YsBOC49",
        "outputId": "bd339580-0caf-49ec-bdb8-3902a34f32ea"
      },
      "source": [
        "M[0,:,:] = M[0,:,:]*2\n",
        "M[0]"
      ],
      "execution_count": 14,
      "outputs": [
        {
          "output_type": "execute_result",
          "data": {
            "text/plain": [
              "array([[16.,  0.,  0.,  0.,  0.,  0.],\n",
              "       [ 0., 16.,  0.,  0.,  0.,  0.],\n",
              "       [ 0.,  0., 16.,  0.,  0.,  0.],\n",
              "       [ 0.,  0.,  0., 16.,  0.,  0.],\n",
              "       [ 0.,  0.,  0.,  0., 16.,  0.],\n",
              "       [ 0.,  0.,  0.,  0.,  0., 16.]])"
            ]
          },
          "metadata": {
            "tags": []
          },
          "execution_count": 14
        }
      ]
    },
    {
      "cell_type": "code",
      "metadata": {
        "colab": {
          "base_uri": "https://localhost:8080/"
        },
        "id": "UIXX2I7zOU2p",
        "outputId": "09697d8b-141e-44e2-f623-797fccffad45"
      },
      "source": [
        "\n",
        "# Del conjunto de 3 matrices que tenemos\n",
        "# seleccionamos: FILA (s=2) y \n",
        "# TODAS LAS COLUMNAS\n",
        "estado = 2\n",
        "\n",
        "M[:,estado,:]\n"
      ],
      "execution_count": 15,
      "outputs": [
        {
          "output_type": "execute_result",
          "data": {
            "text/plain": [
              "array([[ 0.,  0., 16.,  0.,  0.,  0.],\n",
              "       [ 0.,  0.,  1.,  0.,  0.,  0.],\n",
              "       [ 0.,  0.,  1.,  0.,  0.,  0.]])"
            ]
          },
          "metadata": {
            "tags": []
          },
          "execution_count": 15
        }
      ]
    },
    {
      "cell_type": "markdown",
      "metadata": {
        "id": "3oXTsE85NNnZ"
      },
      "source": [
        "## **Hacemos algunas pruebas con la librería: UTILS**"
      ]
    },
    {
      "cell_type": "code",
      "metadata": {
        "id": "zDxgwAhMP0RP"
      },
      "source": [
        "# NO VIENE INSTALADO DE SERIE\n",
        "!pip install utils"
      ],
      "execution_count": null,
      "outputs": []
    },
    {
      "cell_type": "code",
      "metadata": {
        "colab": {
          "base_uri": "https://localhost:8080/"
        },
        "id": "O48M50_8PWn8",
        "outputId": "77803f13-de80-4bf5-ab30-00406f291952"
      },
      "source": [
        "import utils\n",
        "\n",
        "estado = 2\n",
        "\n",
        "#objetivo = utils.onehot(estado, state_size)\n",
        "#objetivo\n",
        "objetivo = [0,0,1,0,0,0]\n",
        "\n",
        "np.matmul(M[:,estado,:], objetivo)\n"
      ],
      "execution_count": 21,
      "outputs": [
        {
          "output_type": "execute_result",
          "data": {
            "text/plain": [
              "array([16.,  1.,  1.])"
            ]
          },
          "metadata": {
            "tags": []
          },
          "execution_count": 21
        }
      ]
    },
    {
      "cell_type": "code",
      "metadata": {
        "id": "VXXg8W-wRmeP"
      },
      "source": [
        ""
      ],
      "execution_count": null,
      "outputs": []
    }
  ]
}